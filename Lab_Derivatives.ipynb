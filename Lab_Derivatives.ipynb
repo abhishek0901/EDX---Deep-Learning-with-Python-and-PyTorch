{
  "nbformat": 4,
  "nbformat_minor": 0,
  "metadata": {
    "colab": {
      "name": "Lab: Derivatives",
      "provenance": []
    },
    "kernelspec": {
      "name": "python3",
      "display_name": "Python 3"
    }
  },
  "cells": [
    {
      "cell_type": "code",
      "metadata": {
        "id": "aAZOMeluc3rX",
        "colab_type": "code",
        "colab": {}
      },
      "source": [
        "import torch\n",
        "import matplotlib.pyplot as plt\n",
        "import torch.functional as F"
      ],
      "execution_count": 0,
      "outputs": []
    },
    {
      "cell_type": "code",
      "metadata": {
        "id": "tFUhxLXkeTqS",
        "colab_type": "code",
        "colab": {}
      },
      "source": [
        "x = torch.tensor(2.0,requires_grad=True)\n",
        "print(\"The tensor x: \",x)"
      ],
      "execution_count": 0,
      "outputs": []
    },
    {
      "cell_type": "code",
      "metadata": {
        "id": "4mAc8Galely3",
        "colab_type": "code",
        "colab": {}
      },
      "source": [
        "y = x ** 2\n",
        "print(\"The result of y = x^2 :\",y)"
      ],
      "execution_count": 0,
      "outputs": []
    },
    {
      "cell_type": "code",
      "metadata": {
        "id": "Z7TkZQL1extl",
        "colab_type": "code",
        "colab": {}
      },
      "source": [
        "y.backward()\n",
        "print(\"The derivative at x=2 :\",x.grad)"
      ],
      "execution_count": 0,
      "outputs": []
    },
    {
      "cell_type": "code",
      "metadata": {
        "id": "qJBGSuBWe-o6",
        "colab_type": "code",
        "colab": {}
      },
      "source": [
        "x = torch.tensor(3.,requires_grad=True)\n",
        "y = x ** 2 + 2 * x + 1\n",
        "y.backward()\n",
        "print(\"Grad at x=2 :\",x.grad)"
      ],
      "execution_count": 0,
      "outputs": []
    },
    {
      "cell_type": "code",
      "metadata": {
        "id": "qoVH-ujHfQwo",
        "colab_type": "code",
        "colab": {}
      },
      "source": [
        "u = torch.tensor(1.,requires_grad=True)\n",
        "v = torch.tensor(2.,requires_grad=True)\n",
        "\n",
        "y = v * u + u ** 2\n",
        "\n",
        "y.backward()\n",
        "\n",
        "print(\"Grad with respect to u :\",u.grad)\n",
        "print(\"Grad with respect to v :\",v.grad)"
      ],
      "execution_count": 0,
      "outputs": []
    },
    {
      "cell_type": "code",
      "metadata": {
        "id": "lOYnyvxUgm4b",
        "colab_type": "code",
        "colab": {}
      },
      "source": [
        "x = torch.linspace(-10,10,10,requires_grad=True)\n",
        "Y = x ** 2\n",
        "y = torch.sum(x ** 2)\n",
        "y.backward()\n",
        "print(x.grad)"
      ],
      "execution_count": 0,
      "outputs": []
    },
    {
      "cell_type": "code",
      "metadata": {
        "id": "YsuaK2Eoho_J",
        "colab_type": "code",
        "colab": {}
      },
      "source": [
        "plt.plot(x.detach().numpy(),Y.detach().numpy(),label='function')\n",
        "plt.plot(x.detach().numpy(),x.grad.detach().numpy(),label='derivative')\n",
        "plt.xlabel('x')\n",
        "plt.legend()\n",
        "plt.show()"
      ],
      "execution_count": 0,
      "outputs": []
    },
    {
      "cell_type": "code",
      "metadata": {
        "id": "JRqnpI-hiYeb",
        "colab_type": "code",
        "colab": {}
      },
      "source": [
        "import torch.nn.functional as F"
      ],
      "execution_count": 0,
      "outputs": []
    },
    {
      "cell_type": "code",
      "metadata": {
        "id": "DEt3XdFXisdv",
        "colab_type": "code",
        "outputId": "cff5c6f8-9bac-4a1b-c13a-6cfe3b9b19cc",
        "colab": {
          "base_uri": "https://localhost:8080/",
          "height": 279
        }
      },
      "source": [
        "x = torch.linspace(-3,3,100,requires_grad=True)\n",
        "Y = F.relu(x)\n",
        "y = Y.sum()\n",
        "y.backward()\n",
        "plt.plot(x.detach().numpy(),Y.detach().numpy(),label='function')\n",
        "plt.plot(x.detach().numpy(),x.grad.detach().numpy(),label='derivative')\n",
        "\n",
        "plt.xlabel('x')\n",
        "plt.legend()\n",
        "plt.show()"
      ],
      "execution_count": 0,
      "outputs": [
        {
          "output_type": "display_data",
          "data": {
            "image/png": "[encoded data removed]",
            "text/plain": [
              "<Figure size 432x288 with 1 Axes>"
            ]
          },
          "metadata": {
            "tags": []
          }
        }
      ]
    }
  ]
}